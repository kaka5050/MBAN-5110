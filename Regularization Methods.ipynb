{
 "cells": [
  {
   "cell_type": "code",
   "execution_count": 2,
   "id": "8289f5e1",
   "metadata": {},
   "outputs": [],
   "source": [
    "import numpy as np\n",
    "import pandas as pd\n",
    "import matplotlib.pyplot as plt\n",
    "import statsmodels.api as sm\n",
    "from sklearn import linear_model as lm"
   ]
  },
  {
   "cell_type": "code",
   "execution_count": 3,
   "id": "ac25ff6d",
   "metadata": {},
   "outputs": [],
   "source": [
    "x_1 = np.random.uniform(10,40,100)\n",
    "x_2 = np.random.uniform(-50,20,100)\n",
    "x_3 = np.random.uniform(20,60,100)\n",
    "x_4 = np.random.uniform(10,40,100)\n",
    "x_5 = np.random.uniform(-50,20,100)\n",
    "x_6 = np.random.uniform(20,60,100)\n",
    "epsilon = np.random.normal(0,10,100)"
   ]
  },
  {
   "cell_type": "code",
   "execution_count": 4,
   "id": "42b4353c",
   "metadata": {},
   "outputs": [],
   "source": [
    "y=-30+1.3*x_1+1.6*x_2+1.1*x_3+0.7*x_4-2.1*x_5-0.9*x_6+epsilon"
   ]
  },
  {
   "cell_type": "code",
   "execution_count": 5,
   "id": "f4f0d12d",
   "metadata": {},
   "outputs": [],
   "source": [
    "X_ols=pd.DataFrame()\n",
    "X_ols['Constant']=pd.Series(np.ones(100))\n",
    "X_ols['X1'] = pd.Series(x_1)\n",
    "X_ols['X2'] = pd.Series(x_2)\n",
    "X_ols['X3'] = pd.Series(x_3)\n",
    "X_ols['X4'] = pd.Series(x_4)\n",
    "X_ols['X5'] = pd.Series(x_5)\n",
    "X_ols['X6'] = pd.Series(x_6)"
   ]
  },
  {
   "cell_type": "code",
   "execution_count": 14,
   "id": "85ab7200",
   "metadata": {},
   "outputs": [
    {
     "data": {
      "text/html": [
       "<div>\n",
       "<style scoped>\n",
       "    .dataframe tbody tr th:only-of-type {\n",
       "        vertical-align: middle;\n",
       "    }\n",
       "\n",
       "    .dataframe tbody tr th {\n",
       "        vertical-align: top;\n",
       "    }\n",
       "\n",
       "    .dataframe thead th {\n",
       "        text-align: right;\n",
       "    }\n",
       "</style>\n",
       "<table border=\"1\" class=\"dataframe\">\n",
       "  <thead>\n",
       "    <tr style=\"text-align: right;\">\n",
       "      <th></th>\n",
       "      <th>Constant</th>\n",
       "      <th>X1</th>\n",
       "      <th>X2</th>\n",
       "      <th>X3</th>\n",
       "      <th>X4</th>\n",
       "      <th>X5</th>\n",
       "      <th>X6</th>\n",
       "    </tr>\n",
       "  </thead>\n",
       "  <tbody>\n",
       "    <tr>\n",
       "      <th>0</th>\n",
       "      <td>1.0</td>\n",
       "      <td>24.339952</td>\n",
       "      <td>9.404506</td>\n",
       "      <td>36.428060</td>\n",
       "      <td>33.173479</td>\n",
       "      <td>2.738200</td>\n",
       "      <td>55.689090</td>\n",
       "    </tr>\n",
       "    <tr>\n",
       "      <th>1</th>\n",
       "      <td>1.0</td>\n",
       "      <td>27.605230</td>\n",
       "      <td>-43.198514</td>\n",
       "      <td>37.924435</td>\n",
       "      <td>29.333109</td>\n",
       "      <td>-45.210609</td>\n",
       "      <td>32.859447</td>\n",
       "    </tr>\n",
       "    <tr>\n",
       "      <th>2</th>\n",
       "      <td>1.0</td>\n",
       "      <td>23.773170</td>\n",
       "      <td>2.412406</td>\n",
       "      <td>57.345802</td>\n",
       "      <td>27.003203</td>\n",
       "      <td>13.819585</td>\n",
       "      <td>49.781253</td>\n",
       "    </tr>\n",
       "    <tr>\n",
       "      <th>3</th>\n",
       "      <td>1.0</td>\n",
       "      <td>36.310290</td>\n",
       "      <td>-31.989534</td>\n",
       "      <td>44.566794</td>\n",
       "      <td>19.441320</td>\n",
       "      <td>-4.321395</td>\n",
       "      <td>28.207045</td>\n",
       "    </tr>\n",
       "    <tr>\n",
       "      <th>4</th>\n",
       "      <td>1.0</td>\n",
       "      <td>30.400380</td>\n",
       "      <td>14.709055</td>\n",
       "      <td>57.486337</td>\n",
       "      <td>26.250724</td>\n",
       "      <td>-4.654251</td>\n",
       "      <td>43.479979</td>\n",
       "    </tr>\n",
       "    <tr>\n",
       "      <th>...</th>\n",
       "      <td>...</td>\n",
       "      <td>...</td>\n",
       "      <td>...</td>\n",
       "      <td>...</td>\n",
       "      <td>...</td>\n",
       "      <td>...</td>\n",
       "      <td>...</td>\n",
       "    </tr>\n",
       "    <tr>\n",
       "      <th>95</th>\n",
       "      <td>1.0</td>\n",
       "      <td>23.521726</td>\n",
       "      <td>14.554785</td>\n",
       "      <td>50.385661</td>\n",
       "      <td>24.797544</td>\n",
       "      <td>5.284829</td>\n",
       "      <td>46.163251</td>\n",
       "    </tr>\n",
       "    <tr>\n",
       "      <th>96</th>\n",
       "      <td>1.0</td>\n",
       "      <td>18.982790</td>\n",
       "      <td>10.831754</td>\n",
       "      <td>49.031219</td>\n",
       "      <td>30.868406</td>\n",
       "      <td>-27.670605</td>\n",
       "      <td>59.609837</td>\n",
       "    </tr>\n",
       "    <tr>\n",
       "      <th>97</th>\n",
       "      <td>1.0</td>\n",
       "      <td>21.938994</td>\n",
       "      <td>17.552925</td>\n",
       "      <td>54.699428</td>\n",
       "      <td>39.760293</td>\n",
       "      <td>-17.138872</td>\n",
       "      <td>53.664671</td>\n",
       "    </tr>\n",
       "    <tr>\n",
       "      <th>98</th>\n",
       "      <td>1.0</td>\n",
       "      <td>18.004619</td>\n",
       "      <td>-27.464074</td>\n",
       "      <td>30.597029</td>\n",
       "      <td>26.643260</td>\n",
       "      <td>-6.262645</td>\n",
       "      <td>20.654345</td>\n",
       "    </tr>\n",
       "    <tr>\n",
       "      <th>99</th>\n",
       "      <td>1.0</td>\n",
       "      <td>36.778235</td>\n",
       "      <td>-34.199933</td>\n",
       "      <td>46.922506</td>\n",
       "      <td>39.252943</td>\n",
       "      <td>-9.340685</td>\n",
       "      <td>54.373761</td>\n",
       "    </tr>\n",
       "  </tbody>\n",
       "</table>\n",
       "<p>100 rows × 7 columns</p>\n",
       "</div>"
      ],
      "text/plain": [
       "    Constant         X1         X2         X3         X4         X5         X6\n",
       "0        1.0  24.339952   9.404506  36.428060  33.173479   2.738200  55.689090\n",
       "1        1.0  27.605230 -43.198514  37.924435  29.333109 -45.210609  32.859447\n",
       "2        1.0  23.773170   2.412406  57.345802  27.003203  13.819585  49.781253\n",
       "3        1.0  36.310290 -31.989534  44.566794  19.441320  -4.321395  28.207045\n",
       "4        1.0  30.400380  14.709055  57.486337  26.250724  -4.654251  43.479979\n",
       "..       ...        ...        ...        ...        ...        ...        ...\n",
       "95       1.0  23.521726  14.554785  50.385661  24.797544   5.284829  46.163251\n",
       "96       1.0  18.982790  10.831754  49.031219  30.868406 -27.670605  59.609837\n",
       "97       1.0  21.938994  17.552925  54.699428  39.760293 -17.138872  53.664671\n",
       "98       1.0  18.004619 -27.464074  30.597029  26.643260  -6.262645  20.654345\n",
       "99       1.0  36.778235 -34.199933  46.922506  39.252943  -9.340685  54.373761\n",
       "\n",
       "[100 rows x 7 columns]"
      ]
     },
     "execution_count": 14,
     "metadata": {},
     "output_type": "execute_result"
    }
   ],
   "source": [
    "X_ols"
   ]
  },
  {
   "cell_type": "code",
   "execution_count": 6,
   "id": "0614462a",
   "metadata": {},
   "outputs": [
    {
     "data": {
      "text/html": [
       "<table class=\"simpletable\">\n",
       "<caption>OLS Regression Results</caption>\n",
       "<tr>\n",
       "  <th>Dep. Variable:</th>            <td>y</td>        <th>  R-squared:         </th> <td>   0.968</td>\n",
       "</tr>\n",
       "<tr>\n",
       "  <th>Model:</th>                   <td>OLS</td>       <th>  Adj. R-squared:    </th> <td>   0.966</td>\n",
       "</tr>\n",
       "<tr>\n",
       "  <th>Method:</th>             <td>Least Squares</td>  <th>  F-statistic:       </th> <td>   475.7</td>\n",
       "</tr>\n",
       "<tr>\n",
       "  <th>Date:</th>             <td>Mon, 02 Oct 2023</td> <th>  Prob (F-statistic):</th> <td>1.74e-67</td>\n",
       "</tr>\n",
       "<tr>\n",
       "  <th>Time:</th>                 <td>19:45:28</td>     <th>  Log-Likelihood:    </th> <td> -369.42</td>\n",
       "</tr>\n",
       "<tr>\n",
       "  <th>No. Observations:</th>      <td>   100</td>      <th>  AIC:               </th> <td>   752.8</td>\n",
       "</tr>\n",
       "<tr>\n",
       "  <th>Df Residuals:</th>          <td>    93</td>      <th>  BIC:               </th> <td>   771.1</td>\n",
       "</tr>\n",
       "<tr>\n",
       "  <th>Df Model:</th>              <td>     6</td>      <th>                     </th>     <td> </td>   \n",
       "</tr>\n",
       "<tr>\n",
       "  <th>Covariance Type:</th>      <td>nonrobust</td>    <th>                     </th>     <td> </td>   \n",
       "</tr>\n",
       "</table>\n",
       "<table class=\"simpletable\">\n",
       "<tr>\n",
       "      <td></td>        <th>coef</th>     <th>std err</th>      <th>t</th>      <th>P>|t|</th>  <th>[0.025</th>    <th>0.975]</th>  \n",
       "</tr>\n",
       "<tr>\n",
       "  <th>Constant</th> <td>  -36.1280</td> <td>    6.289</td> <td>   -5.745</td> <td> 0.000</td> <td>  -48.616</td> <td>  -23.640</td>\n",
       "</tr>\n",
       "<tr>\n",
       "  <th>X1</th>       <td>    1.4641</td> <td>    0.118</td> <td>   12.403</td> <td> 0.000</td> <td>    1.230</td> <td>    1.698</td>\n",
       "</tr>\n",
       "<tr>\n",
       "  <th>X2</th>       <td>    1.5540</td> <td>    0.049</td> <td>   31.759</td> <td> 0.000</td> <td>    1.457</td> <td>    1.651</td>\n",
       "</tr>\n",
       "<tr>\n",
       "  <th>X3</th>       <td>    0.9254</td> <td>    0.092</td> <td>   10.029</td> <td> 0.000</td> <td>    0.742</td> <td>    1.109</td>\n",
       "</tr>\n",
       "<tr>\n",
       "  <th>X4</th>       <td>    0.7387</td> <td>    0.118</td> <td>    6.245</td> <td> 0.000</td> <td>    0.504</td> <td>    0.974</td>\n",
       "</tr>\n",
       "<tr>\n",
       "  <th>X5</th>       <td>   -2.2223</td> <td>    0.054</td> <td>  -41.470</td> <td> 0.000</td> <td>   -2.329</td> <td>   -2.116</td>\n",
       "</tr>\n",
       "<tr>\n",
       "  <th>X6</th>       <td>   -0.7932</td> <td>    0.089</td> <td>   -8.926</td> <td> 0.000</td> <td>   -0.970</td> <td>   -0.617</td>\n",
       "</tr>\n",
       "</table>\n",
       "<table class=\"simpletable\">\n",
       "<tr>\n",
       "  <th>Omnibus:</th>       <td> 2.822</td> <th>  Durbin-Watson:     </th> <td>   1.935</td>\n",
       "</tr>\n",
       "<tr>\n",
       "  <th>Prob(Omnibus):</th> <td> 0.244</td> <th>  Jarque-Bera (JB):  </th> <td>   2.587</td>\n",
       "</tr>\n",
       "<tr>\n",
       "  <th>Skew:</th>          <td>-0.310</td> <th>  Prob(JB):          </th> <td>   0.274</td>\n",
       "</tr>\n",
       "<tr>\n",
       "  <th>Kurtosis:</th>      <td> 2.513</td> <th>  Cond. No.          </th> <td>    442.</td>\n",
       "</tr>\n",
       "</table><br/><br/>Notes:<br/>[1] Standard Errors assume that the covariance matrix of the errors is correctly specified."
      ],
      "text/latex": [
       "\\begin{center}\n",
       "\\begin{tabular}{lclc}\n",
       "\\toprule\n",
       "\\textbf{Dep. Variable:}    &        y         & \\textbf{  R-squared:         } &     0.968   \\\\\n",
       "\\textbf{Model:}            &       OLS        & \\textbf{  Adj. R-squared:    } &     0.966   \\\\\n",
       "\\textbf{Method:}           &  Least Squares   & \\textbf{  F-statistic:       } &     475.7   \\\\\n",
       "\\textbf{Date:}             & Mon, 02 Oct 2023 & \\textbf{  Prob (F-statistic):} &  1.74e-67   \\\\\n",
       "\\textbf{Time:}             &     19:45:28     & \\textbf{  Log-Likelihood:    } &   -369.42   \\\\\n",
       "\\textbf{No. Observations:} &         100      & \\textbf{  AIC:               } &     752.8   \\\\\n",
       "\\textbf{Df Residuals:}     &          93      & \\textbf{  BIC:               } &     771.1   \\\\\n",
       "\\textbf{Df Model:}         &           6      & \\textbf{                     } &             \\\\\n",
       "\\textbf{Covariance Type:}  &    nonrobust     & \\textbf{                     } &             \\\\\n",
       "\\bottomrule\n",
       "\\end{tabular}\n",
       "\\begin{tabular}{lcccccc}\n",
       "                  & \\textbf{coef} & \\textbf{std err} & \\textbf{t} & \\textbf{P$> |$t$|$} & \\textbf{[0.025} & \\textbf{0.975]}  \\\\\n",
       "\\midrule\n",
       "\\textbf{Constant} &     -36.1280  &        6.289     &    -5.745  &         0.000        &      -48.616    &      -23.640     \\\\\n",
       "\\textbf{X1}       &       1.4641  &        0.118     &    12.403  &         0.000        &        1.230    &        1.698     \\\\\n",
       "\\textbf{X2}       &       1.5540  &        0.049     &    31.759  &         0.000        &        1.457    &        1.651     \\\\\n",
       "\\textbf{X3}       &       0.9254  &        0.092     &    10.029  &         0.000        &        0.742    &        1.109     \\\\\n",
       "\\textbf{X4}       &       0.7387  &        0.118     &     6.245  &         0.000        &        0.504    &        0.974     \\\\\n",
       "\\textbf{X5}       &      -2.2223  &        0.054     &   -41.470  &         0.000        &       -2.329    &       -2.116     \\\\\n",
       "\\textbf{X6}       &      -0.7932  &        0.089     &    -8.926  &         0.000        &       -0.970    &       -0.617     \\\\\n",
       "\\bottomrule\n",
       "\\end{tabular}\n",
       "\\begin{tabular}{lclc}\n",
       "\\textbf{Omnibus:}       &  2.822 & \\textbf{  Durbin-Watson:     } &    1.935  \\\\\n",
       "\\textbf{Prob(Omnibus):} &  0.244 & \\textbf{  Jarque-Bera (JB):  } &    2.587  \\\\\n",
       "\\textbf{Skew:}          & -0.310 & \\textbf{  Prob(JB):          } &    0.274  \\\\\n",
       "\\textbf{Kurtosis:}      &  2.513 & \\textbf{  Cond. No.          } &     442.  \\\\\n",
       "\\bottomrule\n",
       "\\end{tabular}\n",
       "%\\caption{OLS Regression Results}\n",
       "\\end{center}\n",
       "\n",
       "Notes: \\newline\n",
       " [1] Standard Errors assume that the covariance matrix of the errors is correctly specified."
      ],
      "text/plain": [
       "<class 'statsmodels.iolib.summary.Summary'>\n",
       "\"\"\"\n",
       "                            OLS Regression Results                            \n",
       "==============================================================================\n",
       "Dep. Variable:                      y   R-squared:                       0.968\n",
       "Model:                            OLS   Adj. R-squared:                  0.966\n",
       "Method:                 Least Squares   F-statistic:                     475.7\n",
       "Date:                Mon, 02 Oct 2023   Prob (F-statistic):           1.74e-67\n",
       "Time:                        19:45:28   Log-Likelihood:                -369.42\n",
       "No. Observations:                 100   AIC:                             752.8\n",
       "Df Residuals:                      93   BIC:                             771.1\n",
       "Df Model:                           6                                         \n",
       "Covariance Type:            nonrobust                                         \n",
       "==============================================================================\n",
       "                 coef    std err          t      P>|t|      [0.025      0.975]\n",
       "------------------------------------------------------------------------------\n",
       "Constant     -36.1280      6.289     -5.745      0.000     -48.616     -23.640\n",
       "X1             1.4641      0.118     12.403      0.000       1.230       1.698\n",
       "X2             1.5540      0.049     31.759      0.000       1.457       1.651\n",
       "X3             0.9254      0.092     10.029      0.000       0.742       1.109\n",
       "X4             0.7387      0.118      6.245      0.000       0.504       0.974\n",
       "X5            -2.2223      0.054    -41.470      0.000      -2.329      -2.116\n",
       "X6            -0.7932      0.089     -8.926      0.000      -0.970      -0.617\n",
       "==============================================================================\n",
       "Omnibus:                        2.822   Durbin-Watson:                   1.935\n",
       "Prob(Omnibus):                  0.244   Jarque-Bera (JB):                2.587\n",
       "Skew:                          -0.310   Prob(JB):                        0.274\n",
       "Kurtosis:                       2.513   Cond. No.                         442.\n",
       "==============================================================================\n",
       "\n",
       "Notes:\n",
       "[1] Standard Errors assume that the covariance matrix of the errors is correctly specified.\n",
       "\"\"\""
      ]
     },
     "execution_count": 6,
     "metadata": {},
     "output_type": "execute_result"
    }
   ],
   "source": [
    "model_reg = sm.OLS(y,X_ols).fit()\n",
    "model_reg.summary()"
   ]
  },
  {
   "cell_type": "code",
   "execution_count": 7,
   "id": "7a996da0",
   "metadata": {},
   "outputs": [],
   "source": [
    "# Now we add some unrelated coefficients\n",
    "x_7 = np.random.uniform(10,40,100)\n",
    "x_8 = np.random.uniform(-50,20,100)\n",
    "x_9 = np.random.uniform(20,60,100)\n",
    "x_10 = np.random.uniform(10,40,100)\n",
    "x_11 = np.random.uniform(-50,20,100)\n",
    "x_12 = np.random.uniform(20,60,100)"
   ]
  },
  {
   "cell_type": "code",
   "execution_count": 8,
   "id": "6c40d68e",
   "metadata": {},
   "outputs": [],
   "source": [
    "X_ext = pd.DataFrame()\n",
    "X_ext['Constant']=pd.Series(np.ones(100))\n",
    "X_ext['X1'] = pd.Series(x_1)\n",
    "X_ext['X2'] = pd.Series(x_2)\n",
    "X_ext['X3'] = pd.Series(x_3)\n",
    "X_ext['X4'] = pd.Series(x_4)\n",
    "X_ext['X5'] = pd.Series(x_5)\n",
    "X_ext['X6'] = pd.Series(x_6)\n",
    "X_ext['X7'] = pd.Series(x_7)\n",
    "X_ext['X8'] = pd.Series(x_8)\n",
    "X_ext['X9'] = pd.Series(x_9)\n",
    "X_ext['X10'] = pd.Series(x_10)\n",
    "X_ext['X11'] = pd.Series(x_11)\n",
    "X_ext['X12'] = pd.Series(x_12)"
   ]
  },
  {
   "cell_type": "code",
   "execution_count": 9,
   "id": "d87033bc",
   "metadata": {},
   "outputs": [
    {
     "data": {
      "text/html": [
       "<table class=\"simpletable\">\n",
       "<caption>OLS Regression Results</caption>\n",
       "<tr>\n",
       "  <th>Dep. Variable:</th>            <td>y</td>        <th>  R-squared:         </th> <td>   0.969</td>\n",
       "</tr>\n",
       "<tr>\n",
       "  <th>Model:</th>                   <td>OLS</td>       <th>  Adj. R-squared:    </th> <td>   0.965</td>\n",
       "</tr>\n",
       "<tr>\n",
       "  <th>Method:</th>             <td>Least Squares</td>  <th>  F-statistic:       </th> <td>   226.4</td>\n",
       "</tr>\n",
       "<tr>\n",
       "  <th>Date:</th>             <td>Mon, 02 Oct 2023</td> <th>  Prob (F-statistic):</th> <td>3.80e-60</td>\n",
       "</tr>\n",
       "<tr>\n",
       "  <th>Time:</th>                 <td>19:45:28</td>     <th>  Log-Likelihood:    </th> <td> -368.58</td>\n",
       "</tr>\n",
       "<tr>\n",
       "  <th>No. Observations:</th>      <td>   100</td>      <th>  AIC:               </th> <td>   763.2</td>\n",
       "</tr>\n",
       "<tr>\n",
       "  <th>Df Residuals:</th>          <td>    87</td>      <th>  BIC:               </th> <td>   797.0</td>\n",
       "</tr>\n",
       "<tr>\n",
       "  <th>Df Model:</th>              <td>    12</td>      <th>                     </th>     <td> </td>   \n",
       "</tr>\n",
       "<tr>\n",
       "  <th>Covariance Type:</th>      <td>nonrobust</td>    <th>                     </th>     <td> </td>   \n",
       "</tr>\n",
       "</table>\n",
       "<table class=\"simpletable\">\n",
       "<tr>\n",
       "      <td></td>        <th>coef</th>     <th>std err</th>      <th>t</th>      <th>P>|t|</th>  <th>[0.025</th>    <th>0.975]</th>  \n",
       "</tr>\n",
       "<tr>\n",
       "  <th>Constant</th> <td>  -32.4202</td> <td>   10.004</td> <td>   -3.241</td> <td> 0.002</td> <td>  -52.304</td> <td>  -12.536</td>\n",
       "</tr>\n",
       "<tr>\n",
       "  <th>X1</th>       <td>    1.4775</td> <td>    0.127</td> <td>   11.673</td> <td> 0.000</td> <td>    1.226</td> <td>    1.729</td>\n",
       "</tr>\n",
       "<tr>\n",
       "  <th>X2</th>       <td>    1.5521</td> <td>    0.052</td> <td>   30.096</td> <td> 0.000</td> <td>    1.450</td> <td>    1.655</td>\n",
       "</tr>\n",
       "<tr>\n",
       "  <th>X3</th>       <td>    0.9308</td> <td>    0.096</td> <td>    9.663</td> <td> 0.000</td> <td>    0.739</td> <td>    1.122</td>\n",
       "</tr>\n",
       "<tr>\n",
       "  <th>X4</th>       <td>    0.7390</td> <td>    0.122</td> <td>    6.033</td> <td> 0.000</td> <td>    0.495</td> <td>    0.982</td>\n",
       "</tr>\n",
       "<tr>\n",
       "  <th>X5</th>       <td>   -2.2238</td> <td>    0.057</td> <td>  -38.777</td> <td> 0.000</td> <td>   -2.338</td> <td>   -2.110</td>\n",
       "</tr>\n",
       "<tr>\n",
       "  <th>X6</th>       <td>   -0.7888</td> <td>    0.094</td> <td>   -8.406</td> <td> 0.000</td> <td>   -0.975</td> <td>   -0.602</td>\n",
       "</tr>\n",
       "<tr>\n",
       "  <th>X7</th>       <td>   -0.0555</td> <td>    0.130</td> <td>   -0.426</td> <td> 0.671</td> <td>   -0.314</td> <td>    0.203</td>\n",
       "</tr>\n",
       "<tr>\n",
       "  <th>X8</th>       <td>    0.0531</td> <td>    0.054</td> <td>    0.981</td> <td> 0.329</td> <td>   -0.054</td> <td>    0.161</td>\n",
       "</tr>\n",
       "<tr>\n",
       "  <th>X9</th>       <td>   -0.0326</td> <td>    0.086</td> <td>   -0.378</td> <td> 0.706</td> <td>   -0.204</td> <td>    0.139</td>\n",
       "</tr>\n",
       "<tr>\n",
       "  <th>X10</th>      <td>    0.0018</td> <td>    0.135</td> <td>    0.013</td> <td> 0.989</td> <td>   -0.266</td> <td>    0.270</td>\n",
       "</tr>\n",
       "<tr>\n",
       "  <th>X11</th>      <td>    0.0306</td> <td>    0.053</td> <td>    0.583</td> <td> 0.561</td> <td>   -0.074</td> <td>    0.135</td>\n",
       "</tr>\n",
       "<tr>\n",
       "  <th>X12</th>      <td>   -0.0133</td> <td>    0.095</td> <td>   -0.139</td> <td> 0.889</td> <td>   -0.203</td> <td>    0.176</td>\n",
       "</tr>\n",
       "</table>\n",
       "<table class=\"simpletable\">\n",
       "<tr>\n",
       "  <th>Omnibus:</th>       <td> 2.317</td> <th>  Durbin-Watson:     </th> <td>   1.936</td>\n",
       "</tr>\n",
       "<tr>\n",
       "  <th>Prob(Omnibus):</th> <td> 0.314</td> <th>  Jarque-Bera (JB):  </th> <td>   1.993</td>\n",
       "</tr>\n",
       "<tr>\n",
       "  <th>Skew:</th>          <td>-0.226</td> <th>  Prob(JB):          </th> <td>   0.369</td>\n",
       "</tr>\n",
       "<tr>\n",
       "  <th>Kurtosis:</th>      <td> 2.476</td> <th>  Cond. No.          </th> <td>    974.</td>\n",
       "</tr>\n",
       "</table><br/><br/>Notes:<br/>[1] Standard Errors assume that the covariance matrix of the errors is correctly specified."
      ],
      "text/latex": [
       "\\begin{center}\n",
       "\\begin{tabular}{lclc}\n",
       "\\toprule\n",
       "\\textbf{Dep. Variable:}    &        y         & \\textbf{  R-squared:         } &     0.969   \\\\\n",
       "\\textbf{Model:}            &       OLS        & \\textbf{  Adj. R-squared:    } &     0.965   \\\\\n",
       "\\textbf{Method:}           &  Least Squares   & \\textbf{  F-statistic:       } &     226.4   \\\\\n",
       "\\textbf{Date:}             & Mon, 02 Oct 2023 & \\textbf{  Prob (F-statistic):} &  3.80e-60   \\\\\n",
       "\\textbf{Time:}             &     19:45:28     & \\textbf{  Log-Likelihood:    } &   -368.58   \\\\\n",
       "\\textbf{No. Observations:} &         100      & \\textbf{  AIC:               } &     763.2   \\\\\n",
       "\\textbf{Df Residuals:}     &          87      & \\textbf{  BIC:               } &     797.0   \\\\\n",
       "\\textbf{Df Model:}         &          12      & \\textbf{                     } &             \\\\\n",
       "\\textbf{Covariance Type:}  &    nonrobust     & \\textbf{                     } &             \\\\\n",
       "\\bottomrule\n",
       "\\end{tabular}\n",
       "\\begin{tabular}{lcccccc}\n",
       "                  & \\textbf{coef} & \\textbf{std err} & \\textbf{t} & \\textbf{P$> |$t$|$} & \\textbf{[0.025} & \\textbf{0.975]}  \\\\\n",
       "\\midrule\n",
       "\\textbf{Constant} &     -32.4202  &       10.004     &    -3.241  &         0.002        &      -52.304    &      -12.536     \\\\\n",
       "\\textbf{X1}       &       1.4775  &        0.127     &    11.673  &         0.000        &        1.226    &        1.729     \\\\\n",
       "\\textbf{X2}       &       1.5521  &        0.052     &    30.096  &         0.000        &        1.450    &        1.655     \\\\\n",
       "\\textbf{X3}       &       0.9308  &        0.096     &     9.663  &         0.000        &        0.739    &        1.122     \\\\\n",
       "\\textbf{X4}       &       0.7390  &        0.122     &     6.033  &         0.000        &        0.495    &        0.982     \\\\\n",
       "\\textbf{X5}       &      -2.2238  &        0.057     &   -38.777  &         0.000        &       -2.338    &       -2.110     \\\\\n",
       "\\textbf{X6}       &      -0.7888  &        0.094     &    -8.406  &         0.000        &       -0.975    &       -0.602     \\\\\n",
       "\\textbf{X7}       &      -0.0555  &        0.130     &    -0.426  &         0.671        &       -0.314    &        0.203     \\\\\n",
       "\\textbf{X8}       &       0.0531  &        0.054     &     0.981  &         0.329        &       -0.054    &        0.161     \\\\\n",
       "\\textbf{X9}       &      -0.0326  &        0.086     &    -0.378  &         0.706        &       -0.204    &        0.139     \\\\\n",
       "\\textbf{X10}      &       0.0018  &        0.135     &     0.013  &         0.989        &       -0.266    &        0.270     \\\\\n",
       "\\textbf{X11}      &       0.0306  &        0.053     &     0.583  &         0.561        &       -0.074    &        0.135     \\\\\n",
       "\\textbf{X12}      &      -0.0133  &        0.095     &    -0.139  &         0.889        &       -0.203    &        0.176     \\\\\n",
       "\\bottomrule\n",
       "\\end{tabular}\n",
       "\\begin{tabular}{lclc}\n",
       "\\textbf{Omnibus:}       &  2.317 & \\textbf{  Durbin-Watson:     } &    1.936  \\\\\n",
       "\\textbf{Prob(Omnibus):} &  0.314 & \\textbf{  Jarque-Bera (JB):  } &    1.993  \\\\\n",
       "\\textbf{Skew:}          & -0.226 & \\textbf{  Prob(JB):          } &    0.369  \\\\\n",
       "\\textbf{Kurtosis:}      &  2.476 & \\textbf{  Cond. No.          } &     974.  \\\\\n",
       "\\bottomrule\n",
       "\\end{tabular}\n",
       "%\\caption{OLS Regression Results}\n",
       "\\end{center}\n",
       "\n",
       "Notes: \\newline\n",
       " [1] Standard Errors assume that the covariance matrix of the errors is correctly specified."
      ],
      "text/plain": [
       "<class 'statsmodels.iolib.summary.Summary'>\n",
       "\"\"\"\n",
       "                            OLS Regression Results                            \n",
       "==============================================================================\n",
       "Dep. Variable:                      y   R-squared:                       0.969\n",
       "Model:                            OLS   Adj. R-squared:                  0.965\n",
       "Method:                 Least Squares   F-statistic:                     226.4\n",
       "Date:                Mon, 02 Oct 2023   Prob (F-statistic):           3.80e-60\n",
       "Time:                        19:45:28   Log-Likelihood:                -368.58\n",
       "No. Observations:                 100   AIC:                             763.2\n",
       "Df Residuals:                      87   BIC:                             797.0\n",
       "Df Model:                          12                                         \n",
       "Covariance Type:            nonrobust                                         \n",
       "==============================================================================\n",
       "                 coef    std err          t      P>|t|      [0.025      0.975]\n",
       "------------------------------------------------------------------------------\n",
       "Constant     -32.4202     10.004     -3.241      0.002     -52.304     -12.536\n",
       "X1             1.4775      0.127     11.673      0.000       1.226       1.729\n",
       "X2             1.5521      0.052     30.096      0.000       1.450       1.655\n",
       "X3             0.9308      0.096      9.663      0.000       0.739       1.122\n",
       "X4             0.7390      0.122      6.033      0.000       0.495       0.982\n",
       "X5            -2.2238      0.057    -38.777      0.000      -2.338      -2.110\n",
       "X6            -0.7888      0.094     -8.406      0.000      -0.975      -0.602\n",
       "X7            -0.0555      0.130     -0.426      0.671      -0.314       0.203\n",
       "X8             0.0531      0.054      0.981      0.329      -0.054       0.161\n",
       "X9            -0.0326      0.086     -0.378      0.706      -0.204       0.139\n",
       "X10            0.0018      0.135      0.013      0.989      -0.266       0.270\n",
       "X11            0.0306      0.053      0.583      0.561      -0.074       0.135\n",
       "X12           -0.0133      0.095     -0.139      0.889      -0.203       0.176\n",
       "==============================================================================\n",
       "Omnibus:                        2.317   Durbin-Watson:                   1.936\n",
       "Prob(Omnibus):                  0.314   Jarque-Bera (JB):                1.993\n",
       "Skew:                          -0.226   Prob(JB):                        0.369\n",
       "Kurtosis:                       2.476   Cond. No.                         974.\n",
       "==============================================================================\n",
       "\n",
       "Notes:\n",
       "[1] Standard Errors assume that the covariance matrix of the errors is correctly specified.\n",
       "\"\"\""
      ]
     },
     "execution_count": 9,
     "metadata": {},
     "output_type": "execute_result"
    }
   ],
   "source": [
    "model_reg = sm.OLS(y,X_ext).fit()\n",
    "model_reg.summary()"
   ]
  },
  {
   "cell_type": "code",
   "execution_count": 10,
   "id": "4bf6e43b",
   "metadata": {},
   "outputs": [
    {
     "data": {
      "text/plain": [
       "array([ 1.46294307,  1.55027828,  0.92284962,  0.72644038, -2.22015979,\n",
       "       -0.78062871, -0.03711098,  0.04799422, -0.02560489,  0.        ,\n",
       "        0.02732307, -0.0032985 ])"
      ]
     },
     "execution_count": 10,
     "metadata": {},
     "output_type": "execute_result"
    }
   ],
   "source": [
    "# When we input the matrix, we don't need to add the column of ones because \\\n",
    "# Lasso automatically takes it into account\n",
    "\n",
    "X_ext = X_ext.drop(columns=['Constant'])\n",
    "model_lasso = lm.Lasso(alpha=1).fit(X_ext,y)\n",
    "model_lasso.coef_"
   ]
  },
  {
   "cell_type": "code",
   "execution_count": 16,
   "id": "12e48dc5",
   "metadata": {},
   "outputs": [
    {
     "data": {
      "text/plain": [
       "array([ 1.39738349,  1.54149457,  0.89646171,  0.67030692, -2.20731056,\n",
       "       -0.74711898, -0.        ,  0.03143473, -0.        ,  0.        ,\n",
       "        0.01554568, -0.        ])"
      ]
     },
     "execution_count": 16,
     "metadata": {},
     "output_type": "execute_result"
    }
   ],
   "source": [
    "model_lasso = lm.Lasso(alpha=5).fit(X_ext,y)\n",
    "model_lasso.coef_"
   ]
  },
  {
   "cell_type": "code",
   "execution_count": 11,
   "id": "d9778204",
   "metadata": {},
   "outputs": [
    {
     "data": {
      "text/plain": [
       "array([ 1.31193289,  1.53269589,  0.86332346,  0.59803113, -2.18922902,\n",
       "       -0.70753584, -0.        ,  0.01449956, -0.        ,  0.        ,\n",
       "        0.        , -0.        ])"
      ]
     },
     "execution_count": 11,
     "metadata": {},
     "output_type": "execute_result"
    }
   ],
   "source": [
    "model_lasso = lm.Lasso(alpha=10).fit(X_ext,y)\n",
    "model_lasso.coef_"
   ]
  },
  {
   "cell_type": "code",
   "execution_count": 18,
   "id": "d31d1ce4",
   "metadata": {},
   "outputs": [
    {
     "data": {
      "text/plain": [
       "array([ 1.1530718 ,  1.51231571,  0.80024469,  0.45338826, -2.15485581,\n",
       "       -0.62647681, -0.        ,  0.        , -0.        ,  0.        ,\n",
       "        0.        , -0.        ])"
      ]
     },
     "execution_count": 18,
     "metadata": {},
     "output_type": "execute_result"
    }
   ],
   "source": [
    "model_lasso = lm.Lasso(alpha=20).fit(X_ext,y)\n",
    "model_lasso.coef_"
   ]
  },
  {
   "cell_type": "code",
   "execution_count": 17,
   "id": "7b858566",
   "metadata": {},
   "outputs": [
    {
     "data": {
      "text/plain": [
       "array([ 0.        ,  1.32876979,  0.2343748 ,  0.        , -1.88329575,\n",
       "       -0.        , -0.        , -0.        , -0.        ,  0.        ,\n",
       "       -0.        , -0.        ])"
      ]
     },
     "execution_count": 17,
     "metadata": {},
     "output_type": "execute_result"
    }
   ],
   "source": [
    "model_lasso = lm.Lasso(alpha=100).fit(X_ext,y)\n",
    "model_lasso.coef_"
   ]
  },
  {
   "cell_type": "code",
   "execution_count": 12,
   "id": "7b10d4f6",
   "metadata": {},
   "outputs": [
    {
     "data": {
      "text/plain": [
       "array([ 1.47496611,  1.55175844,  0.93025542,  0.73783167, -2.22302065,\n",
       "       -0.78823707, -0.05543317,  0.0529459 , -0.03268604,  0.00264594,\n",
       "        0.0305383 , -0.01332888])"
      ]
     },
     "execution_count": 12,
     "metadata": {},
     "output_type": "execute_result"
    }
   ],
   "source": [
    "# We now apply Ridge Regression to our data\n",
    "\n",
    "model_ridge = lm.Ridge(alpha=10).fit(X_ext,y)\n",
    "model_ridge.coef_"
   ]
  },
  {
   "cell_type": "code",
   "execution_count": 13,
   "id": "16de3321",
   "metadata": {},
   "outputs": [
    {
     "data": {
      "text/plain": [
       "array([ 0.53640173,  1.23518998,  0.55049338,  0.31322488, -1.67344044,\n",
       "       -0.48608879, -0.01154473,  0.00681034, -0.06172446,  0.14568318,\n",
       "       -0.00304285, -0.00223446])"
      ]
     },
     "execution_count": 13,
     "metadata": {},
     "output_type": "execute_result"
    }
   ],
   "source": [
    "model_ridge = lm.Ridge(alpha=10000).fit(X_ext,y)\n",
    "model_ridge.coef_"
   ]
  }
 ],
 "metadata": {
  "kernelspec": {
   "display_name": "Python 3 (ipykernel)",
   "language": "python",
   "name": "python3"
  },
  "language_info": {
   "codemirror_mode": {
    "name": "ipython",
    "version": 3
   },
   "file_extension": ".py",
   "mimetype": "text/x-python",
   "name": "python",
   "nbconvert_exporter": "python",
   "pygments_lexer": "ipython3",
   "version": "3.11.4"
  }
 },
 "nbformat": 4,
 "nbformat_minor": 5
}

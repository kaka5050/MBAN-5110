{
 "cells": [
  {
   "cell_type": "code",
   "execution_count": 5,
   "metadata": {},
   "outputs": [
    {
     "name": "stdout",
     "output_type": "stream",
     "text": [
      "Requirement already satisfied: jupytext in c:\\users\\oscar\\appdata\\local\\programs\\python\\python311\\lib\\site-packages (1.15.2)Note: you may need to restart the kernel to use updated packages.\n",
      "\n",
      "Requirement already satisfied: nbformat in c:\\users\\oscar\\appdata\\local\\programs\\python\\python311\\lib\\site-packages (from jupytext) (5.9.2)\n",
      "Requirement already satisfied: pyyaml in c:\\users\\oscar\\appdata\\local\\programs\\python\\python311\\lib\\site-packages (from jupytext) (6.0.1)\n",
      "Requirement already satisfied: toml in c:\\users\\oscar\\appdata\\local\\programs\\python\\python311\\lib\\site-packages (from jupytext) (0.10.2)\n",
      "Requirement already satisfied: markdown-it-py>=1.0.0 in c:\\users\\oscar\\appdata\\local\\programs\\python\\python311\\lib\\site-packages (from jupytext) (3.0.0)\n",
      "Requirement already satisfied: mdit-py-plugins in c:\\users\\oscar\\appdata\\local\\programs\\python\\python311\\lib\\site-packages (from jupytext) (0.4.0)\n",
      "Requirement already satisfied: mdurl~=0.1 in c:\\users\\oscar\\appdata\\local\\programs\\python\\python311\\lib\\site-packages (from markdown-it-py>=1.0.0->jupytext) (0.1.2)\n",
      "Requirement already satisfied: fastjsonschema in c:\\users\\oscar\\appdata\\local\\programs\\python\\python311\\lib\\site-packages (from nbformat->jupytext) (2.19.0)\n",
      "Requirement already satisfied: jsonschema>=2.6 in c:\\users\\oscar\\appdata\\local\\programs\\python\\python311\\lib\\site-packages (from nbformat->jupytext) (4.20.0)\n",
      "Requirement already satisfied: jupyter-core in c:\\users\\oscar\\appdata\\roaming\\python\\python311\\site-packages (from nbformat->jupytext) (5.3.1)\n",
      "Requirement already satisfied: traitlets>=5.1 in c:\\users\\oscar\\appdata\\roaming\\python\\python311\\site-packages (from nbformat->jupytext) (5.9.0)\n",
      "Requirement already satisfied: attrs>=22.2.0 in c:\\users\\oscar\\appdata\\local\\programs\\python\\python311\\lib\\site-packages (from jsonschema>=2.6->nbformat->jupytext) (23.1.0)\n",
      "Requirement already satisfied: jsonschema-specifications>=2023.03.6 in c:\\users\\oscar\\appdata\\local\\programs\\python\\python311\\lib\\site-packages (from jsonschema>=2.6->nbformat->jupytext) (2023.11.1)\n",
      "Requirement already satisfied: referencing>=0.28.4 in c:\\users\\oscar\\appdata\\local\\programs\\python\\python311\\lib\\site-packages (from jsonschema>=2.6->nbformat->jupytext) (0.31.0)\n",
      "Requirement already satisfied: rpds-py>=0.7.1 in c:\\users\\oscar\\appdata\\local\\programs\\python\\python311\\lib\\site-packages (from jsonschema>=2.6->nbformat->jupytext) (0.13.1)\n",
      "Requirement already satisfied: platformdirs>=2.5 in c:\\users\\oscar\\appdata\\roaming\\python\\python311\\site-packages (from jupyter-core->nbformat->jupytext) (3.9.1)\n",
      "Requirement already satisfied: pywin32>=300 in c:\\users\\oscar\\appdata\\roaming\\python\\python311\\site-packages (from jupyter-core->nbformat->jupytext) (306)\n"
     ]
    },
    {
     "name": "stderr",
     "output_type": "stream",
     "text": [
      "\n",
      "[notice] A new release of pip is available: 23.1.2 -> 23.3.1\n",
      "[notice] To update, run: python.exe -m pip install --upgrade pip\n",
      "'jupytext' is not recognized as an internal or external command,\n",
      "operable program or batch file.\n"
     ]
    }
   ],
   "source": [
    "%pip install jupytext\n",
    "!jupytext --to notebook \"kaka5050/MBAN-5110/MC Example 1.py\" "
   ]
  },
  {
   "cell_type": "code",
   "execution_count": null,
   "metadata": {},
   "outputs": [],
   "source": []
  }
 ],
 "metadata": {
  "kernelspec": {
   "display_name": "Python 3",
   "language": "python",
   "name": "python3"
  },
  "language_info": {
   "codemirror_mode": {
    "name": "ipython",
    "version": 3
   },
   "file_extension": ".py",
   "mimetype": "text/x-python",
   "name": "python",
   "nbconvert_exporter": "python",
   "pygments_lexer": "ipython3",
   "version": "3.11.4"
  }
 },
 "nbformat": 4,
 "nbformat_minor": 2
}
